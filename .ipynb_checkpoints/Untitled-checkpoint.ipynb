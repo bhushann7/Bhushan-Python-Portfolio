{
 "cells": [
  {
   "cell_type": "markdown",
   "id": "04c33b11-7e20-423e-8fb9-e5848db8c90d",
   "metadata": {},
   "source": [
    "# Iphone Data Analysis\n"
   ]
  },
  {
   "cell_type": "code",
   "execution_count": null,
   "id": "34d4ff83-a567-424b-a5f5-e15dc0e4335e",
   "metadata": {},
   "outputs": [],
   "source": []
  }
 ],
 "metadata": {
  "kernelspec": {
   "display_name": "Python 3 (ipykernel)",
   "language": "python",
   "name": "python3"
  },
  "language_info": {
   "codemirror_mode": {
    "name": "ipython",
    "version": 3
   },
   "file_extension": ".py",
   "mimetype": "text/x-python",
   "name": "python",
   "nbconvert_exporter": "python",
   "pygments_lexer": "ipython3",
   "version": "3.12.3"
  }
 },
 "nbformat": 4,
 "nbformat_minor": 5
}
